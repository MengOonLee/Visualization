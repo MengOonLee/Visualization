{
 "cells": [
  {
   "cell_type": "markdown",
   "id": "68453986-a7d2-49eb-bc04-3f45e9d4b178",
   "metadata": {},
   "source": [
    "# Introduction to Dash"
   ]
  },
  {
   "cell_type": "code",
   "execution_count": 1,
   "id": "6d609e61-6d31-4210-861e-104f3bce06f9",
   "metadata": {},
   "outputs": [],
   "source": [
    "import dash\n",
    "from dash import dcc, html\n",
    "\n",
    "# Create a dash application\n",
    "app = dash.Dash()\n",
    "\n",
    "app.layout = html.Div([\n",
    "    # Title to our application using HTML H1 component\n",
    "    html.H1('Data visualization in Python',\n",
    "    # Adding CSS style using style parameter which takes input\n",
    "    # through dictionary.\n",
    "    \n",
    "    "
   ]
  },
  {
   "cell_type": "code",
   "execution_count": null,
   "id": "a50a7600-565a-4ff7-ac76-fe52b0bda1fb",
   "metadata": {},
   "outputs": [],
   "source": []
  }
 ],
 "metadata": {
  "kernelspec": {
   "display_name": "Python 3 (ipykernel)",
   "language": "python",
   "name": "python3"
  },
  "language_info": {
   "codemirror_mode": {
    "name": "ipython",
    "version": 3
   },
   "file_extension": ".py",
   "mimetype": "text/x-python",
   "name": "python",
   "nbconvert_exporter": "python",
   "pygments_lexer": "ipython3",
   "version": "3.8.10"
  }
 },
 "nbformat": 4,
 "nbformat_minor": 5
}
